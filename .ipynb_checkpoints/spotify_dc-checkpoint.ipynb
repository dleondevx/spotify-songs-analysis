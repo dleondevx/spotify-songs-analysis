{
 "cells": [
  {
   "cell_type": "markdown",
   "id": "2891369b",
   "metadata": {},
   "source": [
    "# Analizing artist songs\n",
    "\n",
    "We are going to use spotify API to create a function to analize any artist songs you want, in this example we are going to use Taylor Swift's\n",
    "\n",
    "\n",
    "## Get credentials from Spotify API\n",
    "\n",
    "Go to your Spotify Dashboard at https://developer.spotify.com/dashboard/ and create a new application, then grab the Client ID and Client Secret Key."
   ]
  },
  {
   "cell_type": "code",
   "execution_count": 1,
   "id": "72f17060",
   "metadata": {},
   "outputs": [],
   "source": [
    "# FILL IN THESE VALUES WITH YOUR OWN KEYS\n",
    "client_id = \"a97a69c68c054908a2f6dcc7fcc23523\"\n",
    "client_secret = \"9ba24a985ba04b59ae33620336047109\"\n",
    "\n",
    "# Make sure to add this on \"Edit Settings\" in your Dashboard\n",
    "redirect_uri = \"http://localhost:9000\""
   ]
  },
  {
   "cell_type": "markdown",
   "id": "462b1a82",
   "metadata": {},
   "source": [
    "Upon creating the Web App, you’ll need to go to “Edit Settings” and add a redirect URI, in our case, we aren’t hosting anything, so just set it to a localhost URL (make sure this doesn’t interfere with anything you have running locally, like Jupyter Notebook for instance).\n",
    "\n",
    "\n",
    "# Connect with spotipy library\n",
    "\n",
    "Next we will use the Spotipy library (which is a wrapper on the official REST API) to connect with the Spotify API directly with Python:"
   ]
  },
  {
   "cell_type": "code",
   "execution_count": 2,
   "id": "d4f671e5",
   "metadata": {},
   "outputs": [
    {
     "name": "stdout",
     "output_type": "stream",
     "text": [
      "Requirement already satisfied: spotipy in /home/sam/anaconda3/lib/python3.9/site-packages (2.21.0)\n",
      "Requirement already satisfied: redis>=3.5.3 in /home/sam/anaconda3/lib/python3.9/site-packages (from spotipy) (4.3.5)\n",
      "Requirement already satisfied: six>=1.15.0 in /home/sam/anaconda3/lib/python3.9/site-packages (from spotipy) (1.16.0)\n",
      "Requirement already satisfied: urllib3>=1.26.0 in /home/sam/anaconda3/lib/python3.9/site-packages (from spotipy) (1.26.11)\n",
      "Requirement already satisfied: requests>=2.25.0 in /home/sam/anaconda3/lib/python3.9/site-packages (from spotipy) (2.28.1)\n",
      "Requirement already satisfied: async-timeout>=4.0.2 in /home/sam/anaconda3/lib/python3.9/site-packages (from redis>=3.5.3->spotipy) (4.0.2)\n",
      "Requirement already satisfied: packaging>=20.4 in /home/sam/anaconda3/lib/python3.9/site-packages (from redis>=3.5.3->spotipy) (21.3)\n",
      "Requirement already satisfied: charset-normalizer<3,>=2 in /home/sam/anaconda3/lib/python3.9/site-packages (from requests>=2.25.0->spotipy) (2.0.4)\n",
      "Requirement already satisfied: certifi>=2017.4.17 in /home/sam/anaconda3/lib/python3.9/site-packages (from requests>=2.25.0->spotipy) (2022.9.14)\n",
      "Requirement already satisfied: idna<4,>=2.5 in /home/sam/anaconda3/lib/python3.9/site-packages (from requests>=2.25.0->spotipy) (3.3)\n",
      "Requirement already satisfied: pyparsing!=3.0.5,>=2.0.2 in /home/sam/anaconda3/lib/python3.9/site-packages (from packaging>=20.4->redis>=3.5.3->spotipy) (3.0.9)\n"
     ]
    }
   ],
   "source": [
    "!pip install spotipy"
   ]
  },
  {
   "cell_type": "code",
   "execution_count": 3,
   "id": "082a3925",
   "metadata": {},
   "outputs": [],
   "source": [
    "import spotipy"
   ]
  },
  {
   "cell_type": "code",
   "execution_count": 4,
   "id": "f3356887",
   "metadata": {},
   "outputs": [],
   "source": [
    "from spotipy.oauth2 import SpotifyOAuth"
   ]
  },
  {
   "cell_type": "markdown",
   "id": "3839e7eb",
   "metadata": {},
   "source": [
    "\n",
    "\n",
    "Now we will connect, but we also need to define the scope of our App, do we want the app to be able to edit/create playlists? Or just read general information from Spotify? You can find a list of scopes here: https://developer.spotify.com/documentation/general/guides/authorization/scopes/\n"
   ]
  },
  {
   "cell_type": "code",
   "execution_count": 5,
   "id": "f30eca68",
   "metadata": {},
   "outputs": [],
   "source": [
    "\n",
    "\n",
    "# Connect with API Keys created earlier\n",
    "scope = \"user-read-recently-played\"\n",
    "sp = spotipy.Spotify(auth_manager=SpotifyOAuth(scope=scope,\n",
    "                                               client_id=client_id,\n",
    "                                              client_secret=client_secret,\n",
    "                                              redirect_uri=redirect_uri))\n",
    "\n"
   ]
  },
  {
   "cell_type": "markdown",
   "id": "8449924c",
   "metadata": {},
   "source": [
    " ## Test API"
   ]
  },
  {
   "cell_type": "code",
   "execution_count": 6,
   "id": "b61da8ad",
   "metadata": {},
   "outputs": [
    {
     "data": {
      "text/plain": [
       "dict"
      ]
     },
     "execution_count": 6,
     "metadata": {},
     "output_type": "execute_result"
    }
   ],
   "source": [
    "results = sp.current_user_recently_played()\n",
    "type(results)\n"
   ]
  },
  {
   "cell_type": "code",
   "execution_count": 7,
   "id": "95cbf97e",
   "metadata": {},
   "outputs": [
    {
     "name": "stdout",
     "output_type": "stream",
     "text": [
      "0.) The Longest Wave by Red Hot Chili Peppers\n",
      "1.) Aquatic Mouth Dance by Red Hot Chili Peppers\n",
      "2.) Suck My Kiss by Red Hot Chili Peppers\n",
      "3.) Goodbye Angels by Red Hot Chili Peppers\n",
      "4.) Sick Love by Red Hot Chili Peppers\n",
      "5.) I Ain't Goin' Out Like That by Cypress Hill\n",
      "6.) If You Could Read My Mind by Gordon Lightfoot\n",
      "7.) Renegades by X Ambassadors\n",
      "8.) New Sensation by INXS\n",
      "9.) Touch (feat. Paul Williams) by Daft Punk\n",
      "10.) Woke The F*ck Up by Jon Bellion\n",
      "11.) Rooftop Paradise - Live by Weval\n",
      "12.) Little Voices by Lane 8\n",
      "13.) Toba by Polynation\n",
      "14.) Autumn by Ben Böhmer\n",
      "15.) The Zephyr Song by Red Hot Chili Peppers\n",
      "16.) Put Me to Work by Big Data\n",
      "17.) On Top Of The World by Imagine Dragons\n",
      "18.) Whatever It Takes by Imagine Dragons\n",
      "19.) West Coast Poplock by Ronnie Hudson\n",
      "20.) Reflections by Toshifumi Hinata\n",
      "21.) Pinini Reggae by Sumo\n",
      "22.) California Uber Alles by Dead Kennedys\n",
      "23.) Whatever It Takes by Imagine Dragons\n",
      "24.) Woke The F*ck Up by Jon Bellion\n",
      "25.) Turn up the Radio by OK Go\n",
      "26.) Touch (feat. Paul Williams) by Daft Punk\n",
      "27.) On Top Of The World by Imagine Dragons\n",
      "28.) Big Dater by Big Data\n",
      "29.) On Top Of The World by Imagine Dragons\n",
      "30.) Unglued by Big Data\n",
      "31.) Put Me to Work by Big Data\n",
      "32.) Whatever It Takes by Imagine Dragons\n",
      "33.) Woke The F*ck Up by Jon Bellion\n",
      "34.) Put Me to Work by Big Data\n",
      "35.) Woke The F*ck Up by Jon Bellion\n",
      "36.) Mr. Dillinger by Mogi Grumbles\n",
      "37.) Moons by Embee\n",
      "38.) Rooftop Paradise - Live by Weval\n",
      "39.) Little Voices by Lane 8\n",
      "40.) Toba by Polynation\n",
      "41.) Autumn by Ben Böhmer\n",
      "42.) Autumn by Ben Böhmer\n",
      "43.) Autumn by Ben Böhmer\n",
      "44.) Put Me to Work by Big Data\n",
      "45.) Put Me to Work by Big Data\n",
      "46.) Autumn by Ben Böhmer\n",
      "47.) Put Me to Work by Big Data\n",
      "48.) Kunst by Lebanon Hanover\n",
      "49.) West Coast Poplock by Ronnie Hudson\n"
     ]
    }
   ],
   "source": [
    "\n",
    "for idx, item in enumerate(results['items']):\n",
    "    track_id = item['track']\n",
    "    track_name = track_id['name']\n",
    "    # This assumes one artist name, but its a list for collabs\n",
    "    artist_name = track_id['artists'][0]['name']\n",
    "\n",
    "    print(f\"{idx}.) {track_name} by {artist_name}\")\n",
    "\n"
   ]
  },
  {
   "cell_type": "markdown",
   "id": "47dd2752",
   "metadata": {},
   "source": [
    "# Taylor Swift Albums"
   ]
  },
  {
   "cell_type": "code",
   "execution_count": 8,
   "id": "2405cf2e",
   "metadata": {},
   "outputs": [
    {
     "data": {
      "text/plain": [
       "{'external_urls': {'spotify': 'https://open.spotify.com/artist/06HL4z0CvFAxyc27GXpf02'},\n",
       " 'followers': {'href': None, 'total': 63098873},\n",
       " 'genres': ['pop'],\n",
       " 'href': 'https://api.spotify.com/v1/artists/06HL4z0CvFAxyc27GXpf02',\n",
       " 'id': '06HL4z0CvFAxyc27GXpf02',\n",
       " 'images': [{'height': 640,\n",
       "   'url': 'https://i.scdn.co/image/ab6761610000e5eb5a00969a4698c3132a15fbb0',\n",
       "   'width': 640},\n",
       "  {'height': 320,\n",
       "   'url': 'https://i.scdn.co/image/ab676161000051745a00969a4698c3132a15fbb0',\n",
       "   'width': 320},\n",
       "  {'height': 160,\n",
       "   'url': 'https://i.scdn.co/image/ab6761610000f1785a00969a4698c3132a15fbb0',\n",
       "   'width': 160}],\n",
       " 'name': 'Taylor Swift',\n",
       " 'popularity': 100,\n",
       " 'type': 'artist',\n",
       " 'uri': 'spotify:artist:06HL4z0CvFAxyc27GXpf02'}"
      ]
     },
     "execution_count": 8,
     "metadata": {},
     "output_type": "execute_result"
    }
   ],
   "source": [
    "taylor_swift = sp.artist('06HL4z0CvFAxyc27GXpf02')\n",
    "taylor_swift"
   ]
  },
  {
   "cell_type": "code",
   "execution_count": 9,
   "id": "e0ccc976",
   "metadata": {},
   "outputs": [],
   "source": [
    "taylor_albums = sp.artist_albums(taylor_swift['id'], limit=50)"
   ]
  },
  {
   "cell_type": "code",
   "execution_count": 10,
   "id": "2abc8c60",
   "metadata": {},
   "outputs": [
    {
     "name": "stdout",
     "output_type": "stream",
     "text": [
      "Album: Midnights (3am Edition) -- ID: 3lS1y25WAhcqJDATJK70Mq\n",
      "Album: Midnights (3am Edition) -- ID: 4894htPwC6zoiuTqUQwn4I\n",
      "Album: Midnights -- ID: 151w1FgRZfnKZA9FEcg9Z3\n",
      "Album: Midnights -- ID: 4moVP48t9bji7djUc5VOvi\n",
      "Album: Red (Taylor's Version) -- ID: 6kZ42qRrzov54LcAk4onW9\n",
      "Album: Red (Taylor's Version) -- ID: 6x9s2ObPdpATZgrwxsk9c0\n",
      "Album: Fearless (Taylor's Version) -- ID: 4hDok0OAJd57SGIT8xuWJH\n",
      "Album: evermore (deluxe version) -- ID: 6AORtDjduMM3bupSWzbTSG\n",
      "Album: evermore (deluxe version) -- ID: 1DT6fDJL6AWPJxe7Lq1dPb\n",
      "Album: evermore -- ID: 2Xoteh7uEpea4TohMxjtaq\n",
      "Album: evermore -- ID: 5jmVg7rwRcgd6ARPAeYNSm\n",
      "Album: folklore: the long pond studio sessions (from the Disney+ special) [deluxe edition] -- ID: 0PZ7lAru5FDFHuirTkWe9Z\n",
      "Album: folklore: the long pond studio sessions (from the Disney+ special) [deluxe edition] -- ID: 3VaaZ7OIbGLi60NVsnueoo\n",
      "Album: folklore (deluxe version) -- ID: 1pzvBxYgT6OVwJLtHkrdQK\n",
      "Album: folklore (deluxe version) -- ID: 7v7pe5vZQPWB5zW0JrKRiw\n",
      "Album: folklore -- ID: 2fenSS68JI1h4Fo296JfGr\n",
      "Album: folklore -- ID: 0xS0iOtxQRoJvfcFcJA5Gv\n",
      "Album: Lover -- ID: 1NAmidJlEaVgA3MpcPFYGq\n",
      "Album: Taylor Swift Karaoke: reputation -- ID: 1MHuZZrGT36cXLxAQ5cLP3\n",
      "Album: reputation -- ID: 6DEjYFkNZh67HP7R9PSZvv\n",
      "Album: reputation (Big Machine Radio Release Special) -- ID: 1Hrs3jLGexOvBoaPMoOQYJ\n",
      "Album: reputation Stadium Tour Surprise Song Playlist -- ID: 1MPAXuTVL2Ej5x0JHiSPq8\n",
      "Album: Taylor Swift Karaoke: 1989 (Deluxe) -- ID: 0bEySlRAkuPxV9KVWhXXBr\n",
      "Album: 1989 (Big Machine Radio Release Special) -- ID: 6EsTJnpahwW6xX20zvqQgZ\n",
      "Album: 1989 -- ID: 5fy0X0JmZRZnVa2UEicIOl\n",
      "Album: 1989 (Deluxe) -- ID: 1yGbNOtRIgdIiGHOEBaZWf\n",
      "Album: Red (Deluxe Edition) -- ID: 1KVKqWeRuXsJDLTW0VuD29\n",
      "Album: Red (Big Machine Radio Release Special) -- ID: 4jTYApZPMapg56gRycOn0D\n",
      "Album: Red -- ID: 7daMnnffzVSbNJj8Dy75Ev\n",
      "Album: Speak Now World Tour Live -- ID: 6fyR4wBPwLHKcRtxgd4sGh\n",
      "Album: Speak Now -- ID: 6Ar2o9KCqcyYF9J0aQP3au\n",
      "Album: Speak Now (Big Machine Radio Release Special) -- ID: 75N0Z60SNMQbAPYZuxKgWd\n",
      "Album: Speak Now (Karaoke Version) -- ID: 3QXlUpSDgakWZK2WqQv0pF\n",
      "Album: Speak Now (Deluxe Package) -- ID: 6S6JQWzUrJVcJLK4fi74Fw\n",
      "Album: Fearless (International Version) -- ID: 08CWGiv27MVQhYpuTtvx83\n",
      "Album: Fearless (Big Machine Radio Release Special) -- ID: 3EzFY9Rg0PpbADMth746zi\n",
      "Album: Fearless (Karaoke Version) -- ID: 1CYlmaXajTC59VJWSSeE7Y\n",
      "Album: Fearless (Platinum Edition) -- ID: 2gP2LMVcIFgVczSJqn340t\n",
      "Album: Live From Clear Channel Stripped 2008 -- ID: 1ycoesYxIFymXWebfmz828\n",
      "Album: Taylor Swift -- ID: 5eyZZoQEFQWRHkV2xgAeBw\n",
      "Album: Taylor Swift (Big Machine Radio Release Special) -- ID: 2rU7u7C2v5i45MFVxx7xG1\n",
      "Album: Taylor Swift (Karaoke Version) -- ID: 1mFGeuBwVfAyli6aDoy9OI\n",
      "Album: Anti-Hero (Acoustic Version) -- ID: 5vgWXUueeEU2labRz6TlNv\n",
      "Album: Anti-Hero (ILLENIUM Remix) -- ID: 20wq0dFrgEhhulGXqnb4A6\n",
      "Album: Anti-Hero (Remixes) -- ID: 7irmI5g3OLC1gUXlxysOWt\n",
      "Album: Anti-Hero (Remixes) -- ID: 1UPhbHGeoVyk7RSbfjJMOA\n",
      "Album: Anti-Hero (feat. Bleachers) -- ID: 18DEtVsRVQ4rxqnOIAPwRB\n",
      "Album: Anti-Hero (feat. Bleachers) -- ID: 51hV7ASoVjOVuIhbib79We\n",
      "Album: Carolina (From The Motion Picture “Where The Crawdads Sing”) -- ID: 5Bwg2XxrjTlrNy6BC7KQZf\n",
      "Album: All Too Well (10 Minute Version) (The Short Film) -- ID: 2O1NYIBQCUobrL97A2Unk8\n"
     ]
    }
   ],
   "source": [
    "for album in taylor_albums['items']:\n",
    "    print(f\"Album: {album['name']} -- ID: {album['id']}\")"
   ]
  },
  {
   "cell_type": "markdown",
   "id": "7355f795",
   "metadata": {},
   "source": [
    "# Cleaning the data"
   ]
  },
  {
   "cell_type": "code",
   "execution_count": 11,
   "id": "abd54d50",
   "metadata": {},
   "outputs": [],
   "source": [
    "album_names = []\n",
    "albums = []\n",
    "\n",
    "\n",
    "for album in taylor_albums['items']:\n",
    "    album_name = album['name']\n",
    "    album_id = album['id']\n",
    "    # Very ugly hacky code to clean out the duplicates, but it worked\n",
    "\n",
    "    if album_name[:3] not in album_names and \"remix\" not in album_name and \"Karaoke\" not in album_name and \"Live\" not in album_name:\n",
    "        album_names.append(album_name[:3])\n",
    "        albums.append((album_name, album_id))\n"
   ]
  },
  {
   "cell_type": "code",
   "execution_count": 12,
   "id": "57727ce5",
   "metadata": {},
   "outputs": [
    {
     "data": {
      "text/plain": [
       "[('Midnights (3am Edition)', '3lS1y25WAhcqJDATJK70Mq'),\n",
       " (\"Red (Taylor's Version)\", '6kZ42qRrzov54LcAk4onW9'),\n",
       " (\"Fearless (Taylor's Version)\", '4hDok0OAJd57SGIT8xuWJH'),\n",
       " ('evermore (deluxe version)', '6AORtDjduMM3bupSWzbTSG'),\n",
       " ('folklore: the long pond studio sessions (from the Disney+ special) [deluxe edition]',\n",
       "  '0PZ7lAru5FDFHuirTkWe9Z'),\n",
       " ('Lover', '1NAmidJlEaVgA3MpcPFYGq'),\n",
       " ('reputation', '6DEjYFkNZh67HP7R9PSZvv'),\n",
       " ('1989 (Big Machine Radio Release Special)', '6EsTJnpahwW6xX20zvqQgZ'),\n",
       " ('Speak Now', '6Ar2o9KCqcyYF9J0aQP3au'),\n",
       " ('Taylor Swift', '5eyZZoQEFQWRHkV2xgAeBw'),\n",
       " ('Anti-Hero (Acoustic Version)', '5vgWXUueeEU2labRz6TlNv'),\n",
       " ('Carolina (From The Motion Picture “Where The Crawdads Sing”)',\n",
       "  '5Bwg2XxrjTlrNy6BC7KQZf'),\n",
       " ('All Too Well (10 Minute Version) (The Short Film)',\n",
       "  '2O1NYIBQCUobrL97A2Unk8')]"
      ]
     },
     "execution_count": 12,
     "metadata": {},
     "output_type": "execute_result"
    }
   ],
   "source": [
    "albums"
   ]
  },
  {
   "cell_type": "code",
   "execution_count": 13,
   "id": "d3290b07",
   "metadata": {},
   "outputs": [
    {
     "data": {
      "text/plain": [
       "[('Midnights (3am Edition)', '3lS1y25WAhcqJDATJK70Mq'),\n",
       " (\"Red (Taylor's Version)\", '6kZ42qRrzov54LcAk4onW9'),\n",
       " (\"Fearless (Taylor's Version)\", '4hDok0OAJd57SGIT8xuWJH'),\n",
       " ('evermore (deluxe version)', '6AORtDjduMM3bupSWzbTSG'),\n",
       " ('folklore: the long pond studio sessions (from the Disney+ special) [deluxe edition]',\n",
       "  '0PZ7lAru5FDFHuirTkWe9Z'),\n",
       " ('Lover', '1NAmidJlEaVgA3MpcPFYGq'),\n",
       " ('reputation', '6DEjYFkNZh67HP7R9PSZvv'),\n",
       " ('1989 (Big Machine Radio Release Special)', '6EsTJnpahwW6xX20zvqQgZ')]"
      ]
     },
     "execution_count": 13,
     "metadata": {},
     "output_type": "execute_result"
    }
   ],
   "source": [
    "final_album_list = albums[:-5]\n",
    "final_album_list"
   ]
  },
  {
   "cell_type": "markdown",
   "id": "8003a11e",
   "metadata": {},
   "source": [
    "# Songs from taylor's Albums"
   ]
  },
  {
   "cell_type": "code",
   "execution_count": 14,
   "id": "53dff76e",
   "metadata": {},
   "outputs": [
    {
     "name": "stdout",
     "output_type": "stream",
     "text": [
      "('Midnights (3am Edition)', '3lS1y25WAhcqJDATJK70Mq', 'Lavender Haze', '4g2c7NoTWAOSYDy44l9nub') 186\n"
     ]
    }
   ],
   "source": [
    "taylor_song_ids = []\n",
    "\n",
    "\n",
    "for album_name, album_id in final_album_list:\n",
    "    tracks = sp.album_tracks(album_id)['items']\n",
    "    for track in tracks:\n",
    "        track_name = track['name']\n",
    "        track_id = track['id']\n",
    "        taylor_song_ids.append((album_name, album_id, track_name,track_id))\n",
    "\n",
    "print(taylor_song_ids[0], len(taylor_song_ids))"
   ]
  },
  {
   "cell_type": "markdown",
   "id": "1def16d9",
   "metadata": {},
   "source": [
    "# Song features"
   ]
  },
  {
   "cell_type": "code",
   "execution_count": 15,
   "id": "456f3de2",
   "metadata": {},
   "outputs": [],
   "source": [
    "import pandas as pd"
   ]
  },
  {
   "cell_type": "code",
   "execution_count": 16,
   "id": "344adf26",
   "metadata": {},
   "outputs": [],
   "source": [
    "\n",
    "\n",
    "# Test out one song:\n",
    "features = sp.audio_features(tracks=['4g2c7NoTWAOSYDy44l9nub'])\n",
    "\n"
   ]
  },
  {
   "cell_type": "code",
   "execution_count": 17,
   "id": "bb351bfc",
   "metadata": {},
   "outputs": [
    {
     "data": {
      "text/plain": [
       "[{'danceability': 0.735,\n",
       "  'energy': 0.444,\n",
       "  'key': 10,\n",
       "  'loudness': -10.519,\n",
       "  'mode': 1,\n",
       "  'speechiness': 0.0684,\n",
       "  'acousticness': 0.204,\n",
       "  'instrumentalness': 0.0012,\n",
       "  'liveness': 0.17,\n",
       "  'valence': 0.0984,\n",
       "  'tempo': 97.038,\n",
       "  'type': 'audio_features',\n",
       "  'id': '4g2c7NoTWAOSYDy44l9nub',\n",
       "  'uri': 'spotify:track:4g2c7NoTWAOSYDy44l9nub',\n",
       "  'track_href': 'https://api.spotify.com/v1/tracks/4g2c7NoTWAOSYDy44l9nub',\n",
       "  'analysis_url': 'https://api.spotify.com/v1/audio-analysis/4g2c7NoTWAOSYDy44l9nub',\n",
       "  'duration_ms': 202396,\n",
       "  'time_signature': 4}]"
      ]
     },
     "execution_count": 17,
     "metadata": {},
     "output_type": "execute_result"
    }
   ],
   "source": [
    "features"
   ]
  },
  {
   "cell_type": "code",
   "execution_count": 18,
   "id": "e8603409",
   "metadata": {},
   "outputs": [
    {
     "data": {
      "text/plain": [
       "danceability                                                    0.735\n",
       "energy                                                          0.444\n",
       "key                                                                10\n",
       "loudness                                                      -10.519\n",
       "mode                                                                1\n",
       "speechiness                                                    0.0684\n",
       "acousticness                                                    0.204\n",
       "instrumentalness                                               0.0012\n",
       "liveness                                                         0.17\n",
       "valence                                                        0.0984\n",
       "tempo                                                          97.038\n",
       "type                                                   audio_features\n",
       "id                                             4g2c7NoTWAOSYDy44l9nub\n",
       "uri                              spotify:track:4g2c7NoTWAOSYDy44l9nub\n",
       "track_href          https://api.spotify.com/v1/tracks/4g2c7NoTWAOS...\n",
       "analysis_url        https://api.spotify.com/v1/audio-analysis/4g2c...\n",
       "duration_ms                                                    202396\n",
       "time_signature                                                      4\n",
       "dtype: object"
      ]
     },
     "execution_count": 18,
     "metadata": {},
     "output_type": "execute_result"
    }
   ],
   "source": [
    "pd.Series(features[0])"
   ]
  },
  {
   "cell_type": "code",
   "execution_count": null,
   "id": "5a346c33",
   "metadata": {},
   "outputs": [],
   "source": [
    "df = pd.DataFrame()\n",
    "\n",
    "# This will take awhile, due to us not using the batch feature\n",
    "for album_name,album_id,track_name, track_id in taylor_song_ids:\n",
    "    features = sp.audio_features(tracks=[track_id])[0]\n",
    "    features['album_name'] = album_name\n",
    "    features['album_id'] = album_id\n",
    "    features['track_name'] = track_name\n",
    "    ser = pd.Series(features)\n",
    "    df = pd.concat([df,ser],axis=1)\n",
    "\n"
   ]
  },
  {
   "cell_type": "code",
   "execution_count": null,
   "id": "85ef9336",
   "metadata": {},
   "outputs": [],
   "source": [
    "# Tranpose to fix concat issue due to axis=1\n",
    "df = df.transpose().set_index('id')\n",
    "df.head()[['danceability', 'energy', 'key', 'acousticness','album_name','track_name']]"
   ]
  },
  {
   "cell_type": "markdown",
   "id": "e52532d6",
   "metadata": {},
   "source": [
    "\n",
    "# Visualizing the songs"
   ]
  },
  {
   "cell_type": "code",
   "execution_count": 22,
   "id": "83da7e37",
   "metadata": {},
   "outputs": [
    {
     "data": {
      "text/plain": [
       "Index(['danceability', 'energy', 'key', 'loudness', 'mode', 'speechiness',\n",
       "       'acousticness', 'instrumentalness', 'liveness', 'valence', 'tempo',\n",
       "       'type', 'uri', 'track_href', 'analysis_url', 'duration_ms',\n",
       "       'time_signature', 'album_name', 'album_id', 'track_name'],\n",
       "      dtype='object')"
      ]
     },
     "execution_count": 22,
     "metadata": {},
     "output_type": "execute_result"
    }
   ],
   "source": [
    "df.columns"
   ]
  },
  {
   "cell_type": "code",
   "execution_count": 23,
   "id": "dc3b77ec",
   "metadata": {},
   "outputs": [],
   "source": [
    "data_features = df.drop(['type','uri','track_href','analysis_url','album_name','album_id','track_name'],axis=1)"
   ]
  },
  {
   "cell_type": "code",
   "execution_count": 25,
   "id": "06d7629b",
   "metadata": {},
   "outputs": [
    {
     "data": {
      "text/html": [
       "<div>\n",
       "<style scoped>\n",
       "    .dataframe tbody tr th:only-of-type {\n",
       "        vertical-align: middle;\n",
       "    }\n",
       "\n",
       "    .dataframe tbody tr th {\n",
       "        vertical-align: top;\n",
       "    }\n",
       "\n",
       "    .dataframe thead th {\n",
       "        text-align: right;\n",
       "    }\n",
       "</style>\n",
       "<table border=\"1\" class=\"dataframe\">\n",
       "  <thead>\n",
       "    <tr style=\"text-align: right;\">\n",
       "      <th></th>\n",
       "      <th>danceability</th>\n",
       "      <th>energy</th>\n",
       "      <th>key</th>\n",
       "      <th>loudness</th>\n",
       "      <th>mode</th>\n",
       "      <th>speechiness</th>\n",
       "      <th>acousticness</th>\n",
       "    </tr>\n",
       "  </thead>\n",
       "  <tbody>\n",
       "    <tr>\n",
       "      <th>count</th>\n",
       "      <td>186.000</td>\n",
       "      <td>186.000</td>\n",
       "      <td>186</td>\n",
       "      <td>186.000</td>\n",
       "      <td>186</td>\n",
       "      <td>186.000</td>\n",
       "      <td>186.000</td>\n",
       "    </tr>\n",
       "    <tr>\n",
       "      <th>unique</th>\n",
       "      <td>155.000</td>\n",
       "      <td>162.000</td>\n",
       "      <td>12</td>\n",
       "      <td>183.000</td>\n",
       "      <td>2</td>\n",
       "      <td>156.000</td>\n",
       "      <td>174.000</td>\n",
       "    </tr>\n",
       "    <tr>\n",
       "      <th>top</th>\n",
       "      <td>0.627</td>\n",
       "      <td>0.634</td>\n",
       "      <td>0</td>\n",
       "      <td>-5.025</td>\n",
       "      <td>1</td>\n",
       "      <td>0.031</td>\n",
       "      <td>0.204</td>\n",
       "    </tr>\n",
       "    <tr>\n",
       "      <th>freq</th>\n",
       "      <td>4.000</td>\n",
       "      <td>3.000</td>\n",
       "      <td>37</td>\n",
       "      <td>2.000</td>\n",
       "      <td>164</td>\n",
       "      <td>5.000</td>\n",
       "      <td>2.000</td>\n",
       "    </tr>\n",
       "  </tbody>\n",
       "</table>\n",
       "</div>"
      ],
      "text/plain": [
       "        danceability   energy  key  loudness  mode  speechiness  acousticness\n",
       "count        186.000  186.000  186   186.000   186      186.000       186.000\n",
       "unique       155.000  162.000   12   183.000     2      156.000       174.000\n",
       "top            0.627    0.634    0    -5.025     1        0.031         0.204\n",
       "freq           4.000    3.000   37     2.000   164        5.000         2.000"
      ]
     },
     "execution_count": 25,
     "metadata": {},
     "output_type": "execute_result"
    }
   ],
   "source": [
    "data_features.describe()[['danceability','energy','key','loudness','mode','speechiness','acousticness']]"
   ]
  },
  {
   "cell_type": "code",
   "execution_count": 26,
   "id": "a218cc1c",
   "metadata": {},
   "outputs": [],
   "source": [
    "for col in data_features.columns:\n",
    "    data_features[col] = data_features[col].apply(float)\n",
    "    "
   ]
  },
  {
   "cell_type": "code",
   "execution_count": 27,
   "id": "bbe5b909",
   "metadata": {},
   "outputs": [
    {
     "data": {
      "text/html": [
       "<div>\n",
       "<style scoped>\n",
       "    .dataframe tbody tr th:only-of-type {\n",
       "        vertical-align: middle;\n",
       "    }\n",
       "\n",
       "    .dataframe tbody tr th {\n",
       "        vertical-align: top;\n",
       "    }\n",
       "\n",
       "    .dataframe thead th {\n",
       "        text-align: right;\n",
       "    }\n",
       "</style>\n",
       "<table border=\"1\" class=\"dataframe\">\n",
       "  <thead>\n",
       "    <tr style=\"text-align: right;\">\n",
       "      <th></th>\n",
       "      <th>danceability</th>\n",
       "      <th>energy</th>\n",
       "      <th>key</th>\n",
       "      <th>loudness</th>\n",
       "      <th>mode</th>\n",
       "      <th>speechiness</th>\n",
       "      <th>acousticness</th>\n",
       "    </tr>\n",
       "  </thead>\n",
       "  <tbody>\n",
       "    <tr>\n",
       "      <th>count</th>\n",
       "      <td>186.000000</td>\n",
       "      <td>186.000000</td>\n",
       "      <td>186.000000</td>\n",
       "      <td>186.000000</td>\n",
       "      <td>186.000000</td>\n",
       "      <td>186.000000</td>\n",
       "      <td>186.000000</td>\n",
       "    </tr>\n",
       "    <tr>\n",
       "      <th>mean</th>\n",
       "      <td>0.596871</td>\n",
       "      <td>0.514263</td>\n",
       "      <td>4.844086</td>\n",
       "      <td>-8.872392</td>\n",
       "      <td>0.881720</td>\n",
       "      <td>0.120328</td>\n",
       "      <td>0.426784</td>\n",
       "    </tr>\n",
       "    <tr>\n",
       "      <th>std</th>\n",
       "      <td>0.116883</td>\n",
       "      <td>0.193502</td>\n",
       "      <td>3.467594</td>\n",
       "      <td>3.107975</td>\n",
       "      <td>0.323811</td>\n",
       "      <td>0.226415</td>\n",
       "      <td>0.360557</td>\n",
       "    </tr>\n",
       "    <tr>\n",
       "      <th>min</th>\n",
       "      <td>0.292000</td>\n",
       "      <td>0.131000</td>\n",
       "      <td>0.000000</td>\n",
       "      <td>-16.219000</td>\n",
       "      <td>0.000000</td>\n",
       "      <td>0.025000</td>\n",
       "      <td>0.000191</td>\n",
       "    </tr>\n",
       "    <tr>\n",
       "      <th>25%</th>\n",
       "      <td>0.529500</td>\n",
       "      <td>0.354250</td>\n",
       "      <td>2.000000</td>\n",
       "      <td>-10.784750</td>\n",
       "      <td>1.000000</td>\n",
       "      <td>0.032325</td>\n",
       "      <td>0.059575</td>\n",
       "    </tr>\n",
       "    <tr>\n",
       "      <th>50%</th>\n",
       "      <td>0.606000</td>\n",
       "      <td>0.530000</td>\n",
       "      <td>5.000000</td>\n",
       "      <td>-8.541000</td>\n",
       "      <td>1.000000</td>\n",
       "      <td>0.041800</td>\n",
       "      <td>0.365000</td>\n",
       "    </tr>\n",
       "    <tr>\n",
       "      <th>75%</th>\n",
       "      <td>0.672250</td>\n",
       "      <td>0.685750</td>\n",
       "      <td>7.000000</td>\n",
       "      <td>-6.294500</td>\n",
       "      <td>1.000000</td>\n",
       "      <td>0.068350</td>\n",
       "      <td>0.812500</td>\n",
       "    </tr>\n",
       "    <tr>\n",
       "      <th>max</th>\n",
       "      <td>0.897000</td>\n",
       "      <td>0.909000</td>\n",
       "      <td>11.000000</td>\n",
       "      <td>-3.669000</td>\n",
       "      <td>1.000000</td>\n",
       "      <td>0.950000</td>\n",
       "      <td>0.971000</td>\n",
       "    </tr>\n",
       "  </tbody>\n",
       "</table>\n",
       "</div>"
      ],
      "text/plain": [
       "       danceability      energy         key    loudness        mode  \\\n",
       "count    186.000000  186.000000  186.000000  186.000000  186.000000   \n",
       "mean       0.596871    0.514263    4.844086   -8.872392    0.881720   \n",
       "std        0.116883    0.193502    3.467594    3.107975    0.323811   \n",
       "min        0.292000    0.131000    0.000000  -16.219000    0.000000   \n",
       "25%        0.529500    0.354250    2.000000  -10.784750    1.000000   \n",
       "50%        0.606000    0.530000    5.000000   -8.541000    1.000000   \n",
       "75%        0.672250    0.685750    7.000000   -6.294500    1.000000   \n",
       "max        0.897000    0.909000   11.000000   -3.669000    1.000000   \n",
       "\n",
       "       speechiness  acousticness  \n",
       "count   186.000000    186.000000  \n",
       "mean      0.120328      0.426784  \n",
       "std       0.226415      0.360557  \n",
       "min       0.025000      0.000191  \n",
       "25%       0.032325      0.059575  \n",
       "50%       0.041800      0.365000  \n",
       "75%       0.068350      0.812500  \n",
       "max       0.950000      0.971000  "
      ]
     },
     "execution_count": 27,
     "metadata": {},
     "output_type": "execute_result"
    }
   ],
   "source": [
    "data_features.describe()[['danceability', 'energy', 'key', 'loudness', 'mode', 'speechiness','acousticness']]"
   ]
  },
  {
   "cell_type": "markdown",
   "id": "d211e853",
   "metadata": {},
   "source": [
    "\n",
    "Plotting acoustic music quality\n",
    "\n",
    "If you’re a true “Swiftie”, then you know some albums sound way more acoustic than others, let’s explore the data features to see if that is reflected in the data:\n"
   ]
  },
  {
   "cell_type": "code",
   "execution_count": 29,
   "id": "47ce6885",
   "metadata": {
    "scrolled": true
   },
   "outputs": [
    {
     "name": "stdout",
     "output_type": "stream",
     "text": [
      "Requirement already satisfied: matplotlib in /home/sam/anaconda3/lib/python3.9/site-packages (3.5.2)\r\n",
      "Requirement already satisfied: pillow>=6.2.0 in /home/sam/anaconda3/lib/python3.9/site-packages (from matplotlib) (9.2.0)\r\n",
      "Requirement already satisfied: numpy>=1.17 in /home/sam/anaconda3/lib/python3.9/site-packages (from matplotlib) (1.21.5)\r\n",
      "Requirement already satisfied: kiwisolver>=1.0.1 in /home/sam/anaconda3/lib/python3.9/site-packages (from matplotlib) (1.4.2)\r\n",
      "Requirement already satisfied: pyparsing>=2.2.1 in /home/sam/anaconda3/lib/python3.9/site-packages (from matplotlib) (3.0.9)\r\n",
      "Requirement already satisfied: cycler>=0.10 in /home/sam/anaconda3/lib/python3.9/site-packages (from matplotlib) (0.11.0)\r\n",
      "Requirement already satisfied: python-dateutil>=2.7 in /home/sam/anaconda3/lib/python3.9/site-packages (from matplotlib) (2.8.2)\r\n",
      "Requirement already satisfied: fonttools>=4.22.0 in /home/sam/anaconda3/lib/python3.9/site-packages (from matplotlib) (4.25.0)\r\n",
      "Requirement already satisfied: packaging>=20.0 in /home/sam/anaconda3/lib/python3.9/site-packages (from matplotlib) (21.3)\r\n",
      "Requirement already satisfied: six>=1.5 in /home/sam/anaconda3/lib/python3.9/site-packages (from python-dateutil>=2.7->matplotlib) (1.16.0)\r\n"
     ]
    }
   ],
   "source": [
    "!pip install matplotlib"
   ]
  },
  {
   "cell_type": "code",
   "execution_count": 30,
   "id": "005ab5a0",
   "metadata": {},
   "outputs": [],
   "source": [
    "import matplotlib.pyplot as plt\n",
    "import seaborn as sns"
   ]
  },
  {
   "cell_type": "code",
   "execution_count": 31,
   "id": "c360b451",
   "metadata": {},
   "outputs": [
    {
     "ename": "NameError",
     "evalue": "name 'sns' is not defined",
     "output_type": "error",
     "traceback": [
      "\u001b[0;31m---------------------------------------------------------------------------\u001b[0m",
      "\u001b[0;31mNameError\u001b[0m                                 Traceback (most recent call last)",
      "\u001b[0;32m/tmp/ipykernel_29038/2411422978.py\u001b[0m in \u001b[0;36m<module>\u001b[0;34m\u001b[0m\n\u001b[1;32m      1\u001b[0m \u001b[0mplt\u001b[0m\u001b[0;34m.\u001b[0m\u001b[0mfigure\u001b[0m\u001b[0;34m(\u001b[0m\u001b[0mdpi\u001b[0m\u001b[0;34m=\u001b[0m\u001b[0;36m200\u001b[0m\u001b[0;34m)\u001b[0m\u001b[0;34m\u001b[0m\u001b[0;34m\u001b[0m\u001b[0m\n\u001b[0;32m----> 2\u001b[0;31m \u001b[0msns\u001b[0m\u001b[0;34m.\u001b[0m\u001b[0mscatterplot\u001b[0m\u001b[0;34m(\u001b[0m\u001b[0mx\u001b[0m\u001b[0;34m=\u001b[0m\u001b[0;34m'loudness'\u001b[0m\u001b[0;34m,\u001b[0m\u001b[0my\u001b[0m\u001b[0;34m=\u001b[0m\u001b[0;34m'acousticness'\u001b[0m\u001b[0;34m,\u001b[0m\u001b[0mdata\u001b[0m\u001b[0;34m=\u001b[0m\u001b[0mdata_features\u001b[0m\u001b[0;34m,\u001b[0m \u001b[0mhue\u001b[0m\u001b[0;34m=\u001b[0m\u001b[0mdf\u001b[0m\u001b[0;34m[\u001b[0m\u001b[0;34m'album_name'\u001b[0m\u001b[0;34m]\u001b[0m\u001b[0;34m)\u001b[0m\u001b[0;34m\u001b[0m\u001b[0;34m\u001b[0m\u001b[0m\n\u001b[0m\u001b[1;32m      3\u001b[0m \u001b[0mplt\u001b[0m\u001b[0;34m.\u001b[0m\u001b[0mlegend\u001b[0m\u001b[0;34m(\u001b[0m\u001b[0mloc\u001b[0m\u001b[0;34m=\u001b[0m\u001b[0;34m(\u001b[0m\u001b[0;36m1.05\u001b[0m\u001b[0;34m,\u001b[0m\u001b[0;36m0.2\u001b[0m\u001b[0;34m)\u001b[0m\u001b[0;34m)\u001b[0m\u001b[0;34m\u001b[0m\u001b[0;34m\u001b[0m\u001b[0m\n",
      "\u001b[0;31mNameError\u001b[0m: name 'sns' is not defined"
     ]
    },
    {
     "data": {
      "text/plain": [
       "<Figure size 1280x960 with 0 Axes>"
      ]
     },
     "metadata": {},
     "output_type": "display_data"
    }
   ],
   "source": [
    "plt.figure(dpi=200)\n",
    "sns.scatterplot(x='loudness',y='acousticness',data=data_features, hue=df['album_name'])\n",
    "plt.legend(loc=(1.05,0.2))"
   ]
  },
  {
   "cell_type": "code",
   "execution_count": null,
   "id": "2d78aeec",
   "metadata": {},
   "outputs": [],
   "source": []
  }
 ],
 "metadata": {
  "kernelspec": {
   "display_name": "Python 3 (ipykernel)",
   "language": "python",
   "name": "python3"
  },
  "language_info": {
   "codemirror_mode": {
    "name": "ipython",
    "version": 3
   },
   "file_extension": ".py",
   "mimetype": "text/x-python",
   "name": "python",
   "nbconvert_exporter": "python",
   "pygments_lexer": "ipython3",
   "version": "3.9.13"
  }
 },
 "nbformat": 4,
 "nbformat_minor": 5
}
