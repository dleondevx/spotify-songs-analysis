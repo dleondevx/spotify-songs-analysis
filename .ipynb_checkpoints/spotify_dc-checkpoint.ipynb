{
 "cells": [
  {
   "cell_type": "markdown",
   "id": "b188186b",
   "metadata": {},
   "source": [
    "# Analizing artist songs\n",
    "\n",
    "We are going to analize songs from artists with the spotify API, in this case Taylor Swift's\n",
    "\n",
    "\n",
    "## Get credentials from Spotify API\n",
    "\n",
    "Go to your Spotify Dashboard at https://developer.spotify.com/dashboard/ and create a new application, then grab the Client ID and Client Secret Key."
   ]
  },
  {
   "cell_type": "code",
   "execution_count": null,
   "id": "fe3e19ce",
   "metadata": {},
   "outputs": [],
   "source": [
    "# FILL IN THESE VALUES WITH YOUR OWN KEYS\n",
    "client_id = \"\"\n",
    "client_secret = \"\"\n",
    "\n",
    "# Make sure to add this on \"Edit Settings\" in your Dashboard\n",
    "redirect_uri = \"http://localhost:9000\""
   ]
  },
  {
   "cell_type": "markdown",
   "id": "4c2cd12b",
   "metadata": {},
   "source": [
    "Upon creating the Web App, you’ll need to go to “Edit Settings” and add a redirect URI, in our case, we aren’t hosting anything, so just set it to a localhost URL (make sure this doesn’t interfere with anything you have running locally, like Jupyter Notebook for instance).\n",
    "\n",
    "\n",
    "# Connect with spotipy library\n",
    "\n",
    "Next we will use the Spotipy library (which is a wrapper on the official REST API) to connect with the Spotify API directly with Python:"
   ]
  },
  {
   "cell_type": "code",
   "execution_count": null,
   "id": "014e0705",
   "metadata": {},
   "outputs": [],
   "source": [
    "!pip install spotipy"
   ]
  },
  {
   "cell_type": "code",
   "execution_count": null,
   "id": "b80de4ef",
   "metadata": {},
   "outputs": [],
   "source": [
    "import spotipy"
   ]
  },
  {
   "cell_type": "code",
   "execution_count": null,
   "id": "22bef1d4",
   "metadata": {},
   "outputs": [],
   "source": [
    "from spotipy.oauth2 import SpotifyOAuth"
   ]
  },
  {
   "cell_type": "markdown",
   "id": "f6cd2199",
   "metadata": {},
   "source": [
    "\n",
    "\n",
    "Now we will connect, but we also need to define the scope of our App, do we want the app to be able to edit/create playlists? Or just read general information from Spotify? You can find a list of scopes here: https://developer.spotify.com/documentation/general/guides/authorization/scopes/\n"
   ]
  },
  {
   "cell_type": "code",
   "execution_count": null,
   "id": "487e2764",
   "metadata": {},
   "outputs": [],
   "source": [
    "\n",
    "\n",
    "# Connect with API Keys created earlier\n",
    "scope = \"user-read-recently-played\"\n",
    "sp = spotipy.Spotify(auth_manager=SpotifyOAuth(scope=scope,\n",
    "                                               client_id=client_id,\n",
    "                                              client_secret=client_secret,\n",
    "                                              redirect_uri=redirect_uri))\n",
    "\n"
   ]
  },
  {
   "cell_type": "markdown",
   "id": "38c85ffd",
   "metadata": {},
   "source": [
    " ## Test API"
   ]
  },
  {
   "cell_type": "code",
   "execution_count": null,
   "id": "722c8b9f",
   "metadata": {},
   "outputs": [],
   "source": [
    "results = sp.current_user_recently_played()\n",
    "type(results)\n"
   ]
  },
  {
   "cell_type": "code",
   "execution_count": null,
   "id": "6d7a604b",
   "metadata": {},
   "outputs": [],
   "source": [
    "\n",
    "for idx, item in enumerate(results['items']):\n",
    "    track_id = item['track']\n",
    "    track_name = track_id['name']\n",
    "    # This assumes one artist name, but its a list for collabs\n",
    "    artist_name = track_id['artists'][0]['name']\n",
    "\n",
    "    print(f\"{idx}.) {track_name} by {artist_name}\")\n",
    "\n"
   ]
  },
  {
   "cell_type": "markdown",
   "id": "976d9e28",
   "metadata": {},
   "source": [
    "# Taylor Swift Albums"
   ]
  },
  {
   "cell_type": "code",
   "execution_count": null,
   "id": "aca37855",
   "metadata": {},
   "outputs": [],
   "source": [
    "taylor_swift = sp.artist('06HL4z0CvFAxyc27GXpf02')\n",
    "taylor_swift"
   ]
  },
  {
   "cell_type": "code",
   "execution_count": null,
   "id": "96bd3cd2",
   "metadata": {},
   "outputs": [],
   "source": [
    "taylor_albums = sp.artist_albums(taylor_swift['id'], limit=50)"
   ]
  },
  {
   "cell_type": "code",
   "execution_count": null,
   "id": "f1fa3dce",
   "metadata": {},
   "outputs": [],
   "source": [
    "for album in taylor_albums['items']:\n",
    "    print(f\"Album: {album['name']} -- ID: {album['id']}\")"
   ]
  },
  {
   "cell_type": "markdown",
   "id": "eeb0b113",
   "metadata": {},
   "source": [
    "# Cleaning the data"
   ]
  },
  {
   "cell_type": "code",
   "execution_count": null,
   "id": "d754e827",
   "metadata": {},
   "outputs": [],
   "source": [
    "album_names = []\n",
    "albums = []\n",
    "\n",
    "\n",
    "for album in taylor_albums['items']:\n",
    "    album_name = album['name']\n",
    "    album_id = album['id']\n",
    "    # Very ugly hacky code to clean out the duplicates, but it worked\n",
    "\n",
    "    if album_name[:3] not in album_names and \"remix\" not in album_name and \"Karaoke\" not in album_name and \"Live\" not in album_name:\n",
    "        album_names.append(album_name[:3])\n",
    "        albums.append((album_name, album_id))\n"
   ]
  },
  {
   "cell_type": "code",
   "execution_count": null,
   "id": "9c135428",
   "metadata": {},
   "outputs": [],
   "source": [
    "albums"
   ]
  },
  {
   "cell_type": "code",
   "execution_count": null,
   "id": "a46af5cf",
   "metadata": {},
   "outputs": [],
   "source": [
    "final_album_list = albums[:-5]\n",
    "final_album_list"
   ]
  },
  {
   "cell_type": "markdown",
   "id": "a8523006",
   "metadata": {},
   "source": [
    "# Songs from taylor's Albums"
   ]
  },
  {
   "cell_type": "code",
   "execution_count": null,
   "id": "f5143494",
   "metadata": {},
   "outputs": [],
   "source": [
    "taylor_song_ids = []\n",
    "\n",
    "\n",
    "for album_name, album_id in final_album_list:\n",
    "    tracks = sp.album_tracks(album_id)['items']\n",
    "    for track in tracks:\n",
    "        track_name = track['name']\n",
    "        track_id = track['id']\n",
    "        taylor_song_ids.append((album_name, album_id, track_name,track_id))\n",
    "\n",
    "print(taylor_song_ids[0], len(taylor_song_ids))"
   ]
  },
  {
   "cell_type": "markdown",
   "id": "23430593",
   "metadata": {},
   "source": [
    "# Song features"
   ]
  },
  {
   "cell_type": "code",
   "execution_count": null,
   "id": "66e3874d",
   "metadata": {},
   "outputs": [],
   "source": [
    "import pandas as pd"
   ]
  },
  {
   "cell_type": "code",
   "execution_count": null,
   "id": "fc300fe1",
   "metadata": {},
   "outputs": [],
   "source": [
    "\n",
    "\n",
    "# Test out one song:\n",
    "features = sp.audio_features(tracks=['4g2c7NoTWAOSYDy44l9nub'])\n",
    "\n"
   ]
  },
  {
   "cell_type": "code",
   "execution_count": null,
   "id": "07a62019",
   "metadata": {},
   "outputs": [],
   "source": [
    "features"
   ]
  },
  {
   "cell_type": "code",
   "execution_count": null,
   "id": "5ea632ad",
   "metadata": {},
   "outputs": [],
   "source": [
    "pd.Series(features[0])"
   ]
  },
  {
   "cell_type": "code",
   "execution_count": null,
   "id": "7837c3d3",
   "metadata": {},
   "outputs": [],
   "source": [
    "df = pd.DataFrame()\n",
    "\n",
    "# This will take awhile, due to us not using the batch feature\n",
    "for album_name,album_id,track_name, track_id in taylor_song_ids:\n",
    "    features = sp.audio_features(tracks=[track_id])[0]\n",
    "    features['album_name'] = album_name\n",
    "    features['album_id'] = album_id\n",
    "    features['track_name'] = track_name\n",
    "    ser = pd.Series(features)\n",
    "    df = pd.concat([df,ser],axis=1)\n",
    "\n"
   ]
  },
  {
   "cell_type": "code",
   "execution_count": null,
   "id": "e7ec72db",
   "metadata": {},
   "outputs": [],
   "source": [
    "# Tranpose to fix concat issue due to axis=1\n",
    "df = df.transpose().set_index('id')\n",
    "df.head()[['danceability', 'energy', 'key', 'acousticness','album_name','track_name']]"
   ]
  },
  {
   "cell_type": "markdown",
   "id": "ffa54819",
   "metadata": {},
   "source": [
    "\n",
    "# Visualizing the songs"
   ]
  },
  {
   "cell_type": "code",
   "execution_count": null,
   "id": "adf0c2dc",
   "metadata": {},
   "outputs": [],
   "source": [
    "df.columns"
   ]
  },
  {
   "cell_type": "code",
   "execution_count": null,
   "id": "c562ebf9",
   "metadata": {},
   "outputs": [],
   "source": [
    "data_features = df.drop(['type','uri','track_href','analysis_url','album_name','album_id','track_name'],axis=1)"
   ]
  },
  {
   "cell_type": "code",
   "execution_count": null,
   "id": "5450172d",
   "metadata": {},
   "outputs": [],
   "source": [
    "data_features.describe()[['danceability','energy','key','loudness','mode','speechiness','acousticness']]"
   ]
  },
  {
   "cell_type": "code",
   "execution_count": null,
   "id": "ca67684d",
   "metadata": {},
   "outputs": [],
   "source": [
    "for col in data_features.columns:\n",
    "    data_features[col] = data_features[col].apply(float)\n",
    "    "
   ]
  },
  {
   "cell_type": "code",
   "execution_count": null,
   "id": "c5255dd8",
   "metadata": {},
   "outputs": [],
   "source": [
    "data_features.describe()[['danceability', 'energy', 'key', 'loudness', 'mode', 'speechiness','acousticness']]"
   ]
  },
  {
   "cell_type": "markdown",
   "id": "2a702801",
   "metadata": {},
   "source": [
    "\n",
    "Plotting acoustic music quality\n",
    "\n",
    "If you’re a true “Swiftie”, then you know some albums sound way more acoustic than others, let’s explore the data features to see if that is reflected in the data:\n"
   ]
  },
  {
   "cell_type": "code",
   "execution_count": null,
   "id": "0a916d48",
   "metadata": {
    "scrolled": true
   },
   "outputs": [],
   "source": [
    "!pip install matplotlib"
   ]
  },
  {
   "cell_type": "code",
   "execution_count": null,
   "id": "d2e3be7f",
   "metadata": {},
   "outputs": [],
   "source": [
    "import matplotlib.pyplot as plt\n",
    "import seaborn as sns"
   ]
  },
  {
   "cell_type": "code",
   "execution_count": null,
   "id": "7d565fbe",
   "metadata": {},
   "outputs": [],
   "source": [
    "plt.figure(dpi=200)\n",
    "sns.scatterplot(x='loudness',y='acousticness',data=data_features, hue=df['album_name'])\n",
    "plt.legend(loc=(1.05,0.2))"
   ]
  },
  {
   "cell_type": "markdown",
   "id": "5a5cbe21",
   "metadata": {},
   "source": [
    "If you are familiar with Taylor’s albums, you can see that it makes sense that more folklore and evermore songs are higher on the “acousticness” feature spectrum and lower on the “loudness” feature.\n",
    "\n",
    "It looks like “reputation” is one of the more distinct albums. Let’s explore Taylor’s songwriting range by finding her most distinct songs."
   ]
  },
  {
   "cell_type": "markdown",
   "id": "e0736b25",
   "metadata": {},
   "source": [
    "# Calculating Taylor’s Songwriting Range"
   ]
  },
  {
   "cell_type": "markdown",
   "id": "9ef05a81",
   "metadata": {},
   "source": [
    "Obviously there is a lot of variance in Taylor’s songwriting across albums, but what songs are the most different? We can calculate the euclidean distance between all the songs and then find the largest distance."
   ]
  },
  {
   "cell_type": "code",
   "execution_count": null,
   "id": "6d158bbc",
   "metadata": {},
   "outputs": [],
   "source": [
    "import scipy"
   ]
  },
  {
   "cell_type": "code",
   "execution_count": null,
   "id": "de10cf04",
   "metadata": {},
   "outputs": [],
   "source": [
    "distances = scipy.spatial.distance.cdist(data_features, data_features, metric='euclidean')\n"
   ]
  },
  {
   "cell_type": "code",
   "execution_count": null,
   "id": "396322a7",
   "metadata": {},
   "outputs": [],
   "source": [
    "distances.shape"
   ]
  },
  {
   "cell_type": "markdown",
   "id": "d8e5a758",
   "metadata": {},
   "source": [
    "Here we can see a heatmap of the distance between each song. Obviosly, each song will have 0 distance between itself (Which is the dark diagonal line you see). But what about this crazy range we see around the 48-50 id mark?"
   ]
  },
  {
   "cell_type": "code",
   "execution_count": null,
   "id": "53605484",
   "metadata": {},
   "outputs": [],
   "source": [
    "plt.figure(dpi=200)\n",
    "sns.heatmap(distances)"
   ]
  },
  {
   "cell_type": "code",
   "execution_count": null,
   "id": "818e8ba4",
   "metadata": {},
   "outputs": [],
   "source": [
    "df[distances==distances.max()][['album_name','track_name']]"
   ]
  },
  {
   "cell_type": "markdown",
   "id": "f54ff19b",
   "metadata": {},
   "source": [
    "Looks like its “Glitch” from Midnights and “All Too Well (10 Minute Version) (Taylor’s Version)” from the album Red. So what’s the next step? Give both songs a quick listen, and you’ll notice they are actually not extremely different, except for the length of time. Could that have been a major feature? Let’s try dropping some data features and trying out this analysis again."
   ]
  },
  {
   "cell_type": "code",
   "execution_count": null,
   "id": "55a09d52",
   "metadata": {},
   "outputs": [],
   "source": [
    "no_time = data_features.drop(['duration_ms','time_signature'], axis=1)\n",
    "distances = scipy.spatial.distance.cdist(no_time, no_time, metric='euclidean')"
   ]
  },
  {
   "cell_type": "code",
   "execution_count": null,
   "id": "e343bf67",
   "metadata": {},
   "outputs": [],
   "source": [
    "distances.max()"
   ]
  },
  {
   "cell_type": "code",
   "execution_count": null,
   "id": "ef7e61e8",
   "metadata": {},
   "outputs": [],
   "source": [
    "df[distances==distances.max()][['album_name','track_name']]"
   ]
  },
  {
   "cell_type": "markdown",
   "id": "4ab41441",
   "metadata": {},
   "source": [
    "\n",
    "\n",
    "Interesting. My conclusion after listening to these songs? Given these features, its probably not useful to take such a mathematical approach on these songs, and instead, better to just listen and enjoy them!\n",
    "\n",
    "Hope you found this interesting, check out our other blog posts for more fun analysis!\n"
   ]
  },
  {
   "cell_type": "code",
   "execution_count": null,
   "id": "3eef2b81",
   "metadata": {},
   "outputs": [],
   "source": []
  }
 ],
 "metadata": {
  "kernelspec": {
   "display_name": "Python 3 (ipykernel)",
   "language": "python",
   "name": "python3"
  },
  "language_info": {
   "codemirror_mode": {
    "name": "ipython",
    "version": 3
   },
   "file_extension": ".py",
   "mimetype": "text/x-python",
   "name": "python",
   "nbconvert_exporter": "python",
   "pygments_lexer": "ipython3",
   "version": "3.9.13"
  }
 },
 "nbformat": 4,
 "nbformat_minor": 5
}
